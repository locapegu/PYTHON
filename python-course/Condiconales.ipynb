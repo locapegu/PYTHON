{
 "cells": [
  {
   "cell_type": "code",
   "execution_count": 15,
   "metadata": {},
   "outputs": [],
   "source": [
    "x=30"
   ]
  },
  {
   "cell_type": "code",
   "execution_count": 2,
   "metadata": {},
   "outputs": [
    {
     "data": {
      "text/plain": [
       "True"
      ]
     },
     "execution_count": 2,
     "metadata": {},
     "output_type": "execute_result"
    }
   ],
   "source": [
    "3>2"
   ]
  },
  {
   "cell_type": "code",
   "execution_count": 3,
   "metadata": {},
   "outputs": [
    {
     "data": {
      "text/plain": [
       "False"
      ]
     },
     "execution_count": 3,
     "metadata": {},
     "output_type": "execute_result"
    }
   ],
   "source": [
    "2>3"
   ]
  },
  {
   "cell_type": "code",
   "execution_count": 4,
   "metadata": {},
   "outputs": [
    {
     "data": {
      "text/plain": [
       "True"
      ]
     },
     "execution_count": 4,
     "metadata": {},
     "output_type": "execute_result"
    }
   ],
   "source": [
    "3==3 # comparando no asignando"
   ]
  },
  {
   "cell_type": "code",
   "execution_count": 5,
   "metadata": {},
   "outputs": [
    {
     "data": {
      "text/plain": [
       "False"
      ]
     },
     "execution_count": 5,
     "metadata": {},
     "output_type": "execute_result"
    }
   ],
   "source": [
    "3==4"
   ]
  },
  {
   "cell_type": "code",
   "execution_count": 16,
   "metadata": {},
   "outputs": [],
   "source": [
    "if x < 30:\n",
    "    print('x is less than 30')"
   ]
  },
  {
   "cell_type": "code",
   "execution_count": 17,
   "metadata": {},
   "outputs": [
    {
     "name": "stdout",
     "output_type": "stream",
     "text": [
      "x is greater that 20\n"
     ]
    }
   ],
   "source": [
    "if x <20:\n",
    "    print('x is less than 20')\n",
    "else:\n",
    "    print('x is greater that 20')    "
   ]
  },
  {
   "cell_type": "code",
   "execution_count": 18,
   "metadata": {},
   "outputs": [],
   "source": [
    "color='blue'"
   ]
  },
  {
   "cell_type": "code",
   "execution_count": 20,
   "metadata": {},
   "outputs": [
    {
     "name": "stdout",
     "output_type": "stream",
     "text": [
      "any color\n"
     ]
    }
   ],
   "source": [
    "if color=='red':\n",
    "    print('color is red')\n",
    "else:\n",
    "        print('any color')"
   ]
  },
  {
   "cell_type": "code",
   "execution_count": 21,
   "metadata": {},
   "outputs": [],
   "source": [
    "color='red'"
   ]
  },
  {
   "cell_type": "code",
   "execution_count": 22,
   "metadata": {},
   "outputs": [
    {
     "name": "stdout",
     "output_type": "stream",
     "text": [
      "color is red\n"
     ]
    }
   ],
   "source": [
    "if color=='red':\n",
    "    print('color is red')\n",
    "else:\n",
    "        print('any color')"
   ]
  },
  {
   "cell_type": "markdown",
   "metadata": {},
   "source": [
    "elif #comparación adicional"
   ]
  },
  {
   "cell_type": "code",
   "execution_count": 24,
   "metadata": {},
   "outputs": [
    {
     "name": "stdout",
     "output_type": "stream",
     "text": [
      "color is red\n"
     ]
    }
   ],
   "source": [
    "if color=='red':\n",
    "    print('color is red')\n",
    "elif color=='blue':\n",
    "    print('color is blue')\n",
    "else:\n",
    "        print('any color')"
   ]
  },
  {
   "cell_type": "code",
   "execution_count": 25,
   "metadata": {},
   "outputs": [],
   "source": [
    "y=20\n"
   ]
  },
  {
   "cell_type": "code",
   "execution_count": 27,
   "metadata": {},
   "outputs": [
    {
     "name": "stdout",
     "output_type": "stream",
     "text": [
      "y is equal 20\n"
     ]
    }
   ],
   "source": [
    "if y ==20:\n",
    "    print('y is equal 20')\n",
    "else:\n",
    "    print('y is greater that 20') "
   ]
  },
  {
   "cell_type": "code",
   "execution_count": 28,
   "metadata": {},
   "outputs": [],
   "source": [
    "name= 'Jhon'"
   ]
  },
  {
   "cell_type": "code",
   "execution_count": 29,
   "metadata": {},
   "outputs": [],
   "source": [
    "lastname='Carter'"
   ]
  },
  {
   "cell_type": "code",
   "execution_count": 30,
   "metadata": {},
   "outputs": [
    {
     "name": "stdout",
     "output_type": "stream",
     "text": [
      "You are Jhon Carter\n"
     ]
    }
   ],
   "source": [
    "if name=='Jhon':\n",
    "    if lastname=='Carter':\n",
    "        print('You are Jhon Carter')\n",
    "    else:\n",
    "        print('Your are not Jhon')\n",
    "            \n",
    "    "
   ]
  },
  {
   "cell_type": "code",
   "execution_count": 31,
   "metadata": {},
   "outputs": [],
   "source": [
    "lastname='Pereyra'"
   ]
  },
  {
   "cell_type": "code",
   "execution_count": 32,
   "metadata": {},
   "outputs": [
    {
     "name": "stdout",
     "output_type": "stream",
     "text": [
      "Your are not Jhon\n"
     ]
    }
   ],
   "source": [
    "if name=='Jhon':\n",
    "    if lastname=='Carter':\n",
    "        print('You are Jhon Carter')\n",
    "    else:\n",
    "        print('Your are not Jhon')"
   ]
  },
  {
   "cell_type": "code",
   "execution_count": 33,
   "metadata": {},
   "outputs": [
    {
     "name": "stdout",
     "output_type": "stream",
     "text": [
      "You are not Jhon Carter\n"
     ]
    }
   ],
   "source": [
    "if name=='Jhon':\n",
    "    if lastname=='Carter':\n",
    "        print('You are Jhon Carter')\n",
    "    else:\n",
    "        print('You are not Jhon Carter')\n",
    "else:\n",
    "    print('You are not Jhon')"
   ]
  },
  {
   "cell_type": "code",
   "execution_count": 34,
   "metadata": {},
   "outputs": [],
   "source": [
    "name='Lore'"
   ]
  },
  {
   "cell_type": "code",
   "execution_count": 35,
   "metadata": {},
   "outputs": [
    {
     "name": "stdout",
     "output_type": "stream",
     "text": [
      "You are not Jhon\n"
     ]
    }
   ],
   "source": [
    "if name=='Jhon':\n",
    "    if lastname=='Carter':\n",
    "        print('You are Jhon Carter')\n",
    "    else:\n",
    "        print('You are not Jhon Carter')\n",
    "else:\n",
    "    print('You are not Jhon')"
   ]
  },
  {
   "cell_type": "markdown",
   "metadata": {},
   "source": [
    "Estas de arriba fueron condicionales anidadas"
   ]
  },
  {
   "cell_type": "code",
   "execution_count": 36,
   "metadata": {},
   "outputs": [],
   "source": [
    "if x>2 and x<10:\n",
    "    print('x es mayor que dos y menor que 10')  #operador AND OR Y NOT"
   ]
  },
  {
   "cell_type": "code",
   "execution_count": 37,
   "metadata": {},
   "outputs": [
    {
     "name": "stdout",
     "output_type": "stream",
     "text": [
      "x is mayor que dos o menor que 30\n"
     ]
    }
   ],
   "source": [
    "if x>2 or x<30:\n",
    "    print('x is mayor que dos o menor que 30')"
   ]
  },
  {
   "cell_type": "code",
   "execution_count": 38,
   "metadata": {},
   "outputs": [
    {
     "name": "stdout",
     "output_type": "stream",
     "text": [
      "x is mayor que dos o menor que 30\n",
      "x no es igual a y\n"
     ]
    }
   ],
   "source": [
    "if x>2 or x<30:\n",
    "    print('x is mayor que dos o menor que 30')\n",
    "    if (not( x==y)):\n",
    "        print('x no es igual a y')"
   ]
  },
  {
   "cell_type": "code",
   "execution_count": null,
   "metadata": {},
   "outputs": [],
   "source": []
  }
 ],
 "metadata": {
  "kernelspec": {
   "display_name": "Python 3",
   "language": "python",
   "name": "python3"
  },
  "language_info": {
   "codemirror_mode": {
    "name": "ipython",
    "version": 3
   },
   "file_extension": ".py",
   "mimetype": "text/x-python",
   "name": "python",
   "nbconvert_exporter": "python",
   "pygments_lexer": "ipython3",
   "version": "3.7.6"
  }
 },
 "nbformat": 4,
 "nbformat_minor": 4
}
