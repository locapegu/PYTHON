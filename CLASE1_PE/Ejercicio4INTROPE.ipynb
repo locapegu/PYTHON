{
 "cells": [
  {
   "cell_type": "markdown",
   "metadata": {},
   "source": [
    "Ejercicio 4 Introducción Programa Exactas"
   ]
  },
  {
   "cell_type": "markdown",
   "metadata": {},
   "source": [
    "Defina la funcion ´ mezclar que tome dos listas y devuelva una lista que sea el\n",
    "resultado de intercalas elemento a elemento. Por ejemplo: si intercalamos Pepe\n",
    "con Jose daría PJeopsee."
   ]
  },
  {
   "cell_type": "code",
   "execution_count": 136,
   "metadata": {},
   "outputs": [],
   "source": [
    "def mezclar(lista1,lista2):\n",
    "        listado1=list(lista1)\n",
    "        listado2=list(lista2)\n",
    "        i=0\n",
    "        while i < max(len(listado1),len(listado2)):\n",
    "            listado1[i]=listado1[i]+listado2[i]\n",
    "            i=i+1\n",
    "            cadena= \"\".join(listado1)\n",
    "        return cadena "
   ]
  },
  {
   "cell_type": "code",
   "execution_count": 137,
   "metadata": {},
   "outputs": [
    {
     "data": {
      "text/plain": [
       "'pleudirsoa'"
      ]
     },
     "execution_count": 137,
     "metadata": {},
     "output_type": "execute_result"
    }
   ],
   "source": [
    "mezclar(\"pedro\",\"luisa\")"
   ]
  }
 ],
 "metadata": {
  "kernelspec": {
   "display_name": "Python 3",
   "language": "python",
   "name": "python3"
  },
  "language_info": {
   "codemirror_mode": {
    "name": "ipython",
    "version": 3
   },
   "file_extension": ".py",
   "mimetype": "text/x-python",
   "name": "python",
   "nbconvert_exporter": "python",
   "pygments_lexer": "ipython3",
   "version": "3.7.6"
  }
 },
 "nbformat": 4,
 "nbformat_minor": 4
}
