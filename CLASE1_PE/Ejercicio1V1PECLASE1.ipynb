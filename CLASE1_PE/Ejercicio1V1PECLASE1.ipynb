{
 "cells": [
  {
   "cell_type": "markdown",
   "metadata": {},
   "source": [
    "Ejercicio 1 CLASE 1"
   ]
  },
  {
   "cell_type": "markdown",
   "metadata": {},
   "source": [
    "Vamos a escribir un programa Python que juegue a Nano Jack, un juego de cartas basado en el famoso\n",
    "Black Jack, pero con reglas un tanto relajadas.\n",
    "En el juego Nano Jack se utiliza un mazo de cartas por cada jugador que participa en el juego todas\n",
    "juntas mezcladas. Cada jugador va tomando de a una carta y sumando sus valores. Si logra que las\n",
    "obtenidas sumen 21 gana, si se pasa pierde"
   ]
  },
  {
   "cell_type": "markdown",
   "metadata": {},
   "source": [
    "El objetivo de esta actividad ser´a realizar un programa en Python que simule varios jugadores\n",
    "jugando al Nano Jack."
   ]
  },
  {
   "cell_type": "code",
   "execution_count": 2,
   "metadata": {},
   "outputs": [],
   "source": [
    "import random as rm"
   ]
  },
  {
   "cell_type": "code",
   "execution_count": 48,
   "metadata": {},
   "outputs": [],
   "source": [
    "maso1=list(range(1,14))"
   ]
  },
  {
   "cell_type": "code",
   "execution_count": 52,
   "metadata": {},
   "outputs": [],
   "source": [
    "rm.shuffle(maso1)"
   ]
  },
  {
   "cell_type": "code",
   "execution_count": 53,
   "metadata": {},
   "outputs": [
    {
     "data": {
      "text/plain": [
       "[8, 6, 4, 11, 1, 7, 13, 12, 5, 10, 2, 3, 9]"
      ]
     },
     "execution_count": 53,
     "metadata": {},
     "output_type": "execute_result"
    }
   ],
   "source": [
    "maso1"
   ]
  },
  {
   "cell_type": "markdown",
   "metadata": {},
   "source": [
    "Generar_mazos(n): esta función recibe como parámetro n, un número entero positivo que representa la\n",
    "cantidad de mazos con los cuales se jugará (que dependerá del número de jugadores participantes).\n",
    "Como resultado, deberá devolver una lista conteniendo los valores de las cartas de los n mazos\n",
    "mezclados de manera aleatoria"
   ]
  },
  {
   "cell_type": "code",
   "execution_count": 68,
   "metadata": {},
   "outputs": [
    {
     "ename": "SyntaxError",
     "evalue": "invalid syntax (<ipython-input-68-fc7666ba7e27>, line 3)",
     "output_type": "error",
     "traceback": [
      "\u001b[1;36m  File \u001b[1;32m\"<ipython-input-68-fc7666ba7e27>\"\u001b[1;36m, line \u001b[1;32m3\u001b[0m\n\u001b[1;33m    [x for t in maso2 for x in t]\u001b[0m\n\u001b[1;37m         ^\u001b[0m\n\u001b[1;31mSyntaxError\u001b[0m\u001b[1;31m:\u001b[0m invalid syntax\n"
     ]
    }
   ],
   "source": [
    "def generar_mazos(n):\n",
    "    maso2=(list(range(1,14)),list(range(1,14)),list(range(1,14)),list(range(1,14))\n",
    "        [x for t in maso2 for x in t]\n",
    "           \n",
    "    para n=2 necesito 2 masos  agrego 1 de 52 cartas    \n",
    "           para n=3 necesito 3 masos o sea 2 mas p sea 104\n",
    "           mason\n",
    "    while n=n"
   ]
  },
  {
   "cell_type": "code",
   "execution_count": 62,
   "metadata": {},
   "outputs": [],
   "source": [
    "maso2=(list(range(1,14)),list(range(1,14)),list(range(1,14)),list(range(1,14)))"
   ]
  },
  {
   "cell_type": "code",
   "execution_count": 63,
   "metadata": {},
   "outputs": [
    {
     "data": {
      "text/plain": [
       "tuple"
      ]
     },
     "execution_count": 63,
     "metadata": {},
     "output_type": "execute_result"
    }
   ],
   "source": [
    "type(maso2)"
   ]
  },
  {
   "cell_type": "code",
   "execution_count": 67,
   "metadata": {},
   "outputs": [
    {
     "name": "stdout",
     "output_type": "stream",
     "text": [
      "[1, 2, 3, 4, 5, 6, 7, 8, 9, 10, 11, 12, 13, 1, 2, 3, 4, 5, 6, 7, 8, 9, 10, 11, 12, 13, 1, 2, 3, 4, 5, 6, 7, 8, 9, 10, 11, 12, 13, 1, 2, 3, 4, 5, 6, 7, 8, 9, 10, 11, 12, 13]\n"
     ]
    }
   ],
   "source": [
    " print ([x for t in maso2 for x in t])"
   ]
  },
  {
   "cell_type": "markdown",
   "metadata": {},
   "source": [
    "Necesito armar algo que depende de n tal que me aparezcan\n",
    "si n es 1 : 4 unos 4 dos... asi hasta 4 13 [1,1,1,1,2,2,2,2,2,--------------------13,13,13,13]\n",
    "si n es 2 : 8 unos 8 dos....asi hasta 8 13\n",
    "neceito agregar por cada n un mazo, que son [11112222333344445555...13131313]\n",
    "a ver empiezo simple\n"
   ]
  },
  {
   "cell_type": "code",
   "execution_count": 46,
   "metadata": {},
   "outputs": [],
   "source": [
    "import numpy as np"
   ]
  },
  {
   "cell_type": "code",
   "execution_count": 47,
   "metadata": {},
   "outputs": [],
   "source": [
    "a=np.repeat(list(range(1,14)),3)\n"
   ]
  },
  {
   "cell_type": "code",
   "execution_count": 48,
   "metadata": {},
   "outputs": [],
   "source": [
    "def generar_mazos(n):\n",
    "    import numpy as np\n",
    "    import random as rm\n",
    "    a=np.repeat(list(range(1,14)),4*n) \n",
    "    rm.shuffle(a)\n",
    "    return(a)\n",
    "    "
   ]
  },
  {
   "cell_type": "code",
   "execution_count": 50,
   "metadata": {},
   "outputs": [
    {
     "data": {
      "text/plain": [
       "array([ 2,  3, 11,  6, 12,  9,  4,  7,  1, 11,  2, 13,  6,  6,  8,  9,  8,\n",
       "        5, 13,  2, 10,  5,  4, 13, 10,  3, 12,  9, 13,  1,  3,  7,  2,  1,\n",
       "        4,  7, 12,  7, 10,  4,  1,  5,  8,  3, 12,  5,  9, 11, 10, 11,  6,\n",
       "        8])"
      ]
     },
     "execution_count": 50,
     "metadata": {},
     "output_type": "execute_result"
    }
   ],
   "source": [
    "generar_mazos(1)"
   ]
  },
  {
   "cell_type": "code",
   "execution_count": 51,
   "metadata": {},
   "outputs": [
    {
     "data": {
      "text/plain": [
       "array([ 8, 11, 10,  3, 13,  3,  7,  5,  6,  5,  5, 13, 12,  7,  5, 12,  1,\n",
       "        8, 10, 11,  4,  9,  9,  9,  2,  1,  8,  7, 10, 10,  3,  8, 13, 12,\n",
       "       11,  6,  6,  4,  7,  4,  3,  3, 11,  4,  8,  2,  6,  7,  8,  1, 13,\n",
       "        2,  8, 13,  4,  5,  1, 10,  6,  1, 12,  9,  2,  4,  1,  3,  4, 12,\n",
       "       10,  6,  2, 12, 11, 11,  2,  7, 13,  9,  9, 12,  8, 12, 10,  5,  5,\n",
       "        4, 13,  6, 11,  9,  9, 13,  7,  1,  5,  3,  1, 11, 10,  3,  2,  7,\n",
       "        6,  2])"
      ]
     },
     "execution_count": 51,
     "metadata": {},
     "output_type": "execute_result"
    }
   ],
   "source": [
    "generar_mazos(2)"
   ]
  },
  {
   "cell_type": "code",
   "execution_count": 55,
   "metadata": {},
   "outputs": [],
   "source": [
    "def generar_mazosv2(n):\n",
    "    import random as rm\n",
    "    b=list(range(1,14))*4*n\n",
    "    rm.shuffle(b)\n",
    "    return print(b)"
   ]
  },
  {
   "cell_type": "code",
   "execution_count": 56,
   "metadata": {},
   "outputs": [
    {
     "name": "stdout",
     "output_type": "stream",
     "text": [
      "[1, 9, 6, 5, 7, 6, 9, 4, 1, 10, 5, 8, 11, 6, 8, 8, 8, 1, 13, 11, 9, 5, 12, 3, 2, 7, 13, 13, 4, 2, 12, 10, 12, 6, 10, 11, 12, 9, 3, 4, 7, 13, 1, 4, 2, 10, 3, 7, 2, 5, 3, 11]\n"
     ]
    }
   ],
   "source": [
    "generar_mazosv2(1)"
   ]
  },
  {
   "cell_type": "code",
   "execution_count": 57,
   "metadata": {},
   "outputs": [
    {
     "name": "stdout",
     "output_type": "stream",
     "text": [
      "[7, 9, 2, 6, 2, 9, 7, 10, 8, 10, 9, 2, 8, 7, 10, 11, 5, 6, 6, 4, 4, 11, 2, 6, 4, 13, 1, 10, 1, 7, 5, 5, 4, 13, 12, 1, 4, 12, 8, 10, 5, 3, 11, 2, 8, 10, 12, 13, 11, 11, 3, 12, 3, 3, 12, 12, 8, 9, 12, 13, 8, 11, 3, 5, 6, 1, 9, 2, 9, 1, 4, 5, 7, 13, 3, 6, 13, 1, 1, 2, 8, 7, 11, 3, 4, 1, 12, 13, 9, 13, 2, 4, 10, 6, 7, 9, 7, 5, 8, 5, 3, 6, 10, 11]\n"
     ]
    }
   ],
   "source": [
    "generar_mazosv2(2)"
   ]
  },
  {
   "cell_type": "code",
   "execution_count": null,
   "metadata": {},
   "outputs": [],
   "source": []
  }
 ],
 "metadata": {
  "kernelspec": {
   "display_name": "Python 3",
   "language": "python",
   "name": "python3"
  },
  "language_info": {
   "codemirror_mode": {
    "name": "ipython",
    "version": 3
   },
   "file_extension": ".py",
   "mimetype": "text/x-python",
   "name": "python",
   "nbconvert_exporter": "python",
   "pygments_lexer": "ipython3",
   "version": "3.7.6"
  }
 },
 "nbformat": 4,
 "nbformat_minor": 4
}
