{
 "cells": [
  {
   "cell_type": "markdown",
   "metadata": {},
   "source": [
    "EJERCICIO 1 CLASE 1 "
   ]
  },
  {
   "cell_type": "markdown",
   "metadata": {},
   "source": [
    "Versión 1 generar_mazos"
   ]
  },
  {
   "cell_type": "code",
   "execution_count": 1,
   "metadata": {},
   "outputs": [],
   "source": [
    "def generar_mazos(n):\n",
    "    import numpy as np\n",
    "    import random as rm\n",
    "    a=np.repeat(list(range(1,14)),4*n) \n",
    "    rm.shuffle(a)\n",
    "    return(a)"
   ]
  },
  {
   "cell_type": "markdown",
   "metadata": {},
   "source": [
    "Versión 2 generar_mazos"
   ]
  },
  {
   "cell_type": "code",
   "execution_count": 3,
   "metadata": {},
   "outputs": [],
   "source": [
    "def generar_mazosv2(n):\n",
    "    import random as rm\n",
    "    b=list(range(1,14))*4*n\n",
    "    rm.shuffle(b)\n",
    "    return print(b)"
   ]
  },
  {
   "cell_type": "markdown",
   "metadata": {},
   "source": [
    "Versión 1 jugar(m)"
   ]
  },
  {
   "cell_type": "markdown",
   "metadata": {},
   "source": [
    "jugar(m): recibe como parámetro un mazo m (que es una lista de números enteros entre 1 y 13) y\n",
    "realiza la mecánica de retirar cartas una a una hasta que la suma de los valores obtenidos sea mayor\n",
    "o igual a 21. El valor que devuelve esta función es la suma obtenida (aún si ésta fuera mayor a 21).\n",
    "\n",
    "Para que se puedan combinar luego varios jugadores, las cartas sacadas son retiradas del mazo de\n",
    "cartas, es decir, al terminar esta función, el mazo m deberá tener menos cartas (tantas como fueron\n",
    "sacadas para obtener el resultado de la función). Si el mazo no llegara a tener ninguna carta, esta\n",
    "función devolverá la suma obtenida (por ejemplo, devolvería 0 si el mazo no tuviera cartas)."
   ]
  },
  {
   "cell_type": "code",
   "execution_count": 43,
   "metadata": {},
   "outputs": [],
   "source": [
    "def jugar(m):\n",
    "    import random as rm\n",
    "    c=list(range(1,14))*4*m\n",
    "    rm.shuffle(c)\n",
    "    d=c.pop(0)\n",
    "    if d<21:\n",
    "        e=c.pop(0)\n",
    "        if d+e<21:\n",
    "            l=c.pop(0)\n",
    "            if d+e+l<21:\n",
    "                h=c.pop(0)\n",
    "                if d+e+l+h<21:\n",
    "                   r=c.pop(0)\n",
    "    return print(d+e+l+h+r)"
   ]
  },
  {
   "cell_type": "code",
   "execution_count": 44,
   "metadata": {},
   "outputs": [
    {
     "name": "stdout",
     "output_type": "stream",
     "text": [
      "33\n"
     ]
    }
   ],
   "source": [
    "jugar(3)"
   ]
  },
  {
   "cell_type": "code",
   "execution_count": 33,
   "metadata": {},
   "outputs": [
    {
     "name": "stdout",
     "output_type": "stream",
     "text": [
      "16\n"
     ]
    }
   ],
   "source": [
    "jugar(2)"
   ]
  },
  {
   "cell_type": "markdown",
   "metadata": {},
   "source": [
    "Versión 2 jugar(m)"
   ]
  },
  {
   "cell_type": "code",
   "execution_count": 353,
   "metadata": {},
   "outputs": [],
   "source": [
    "def jugar(m):\n",
    "    import random as rm\n",
    "    f=list(range(1,14))*4*m\n",
    "    rm.shuffle(f)\n",
    "    l=f.pop(0)\n",
    "    i=0\n",
    "    suma=(l+i)\n",
    "    d=1\n",
    "    while (len(f)>d & suma<=21): \n",
    "            i=f.pop(0)\n",
    "            suma=l+i\n",
    "          # hacer un f.pop r veces hasta que supere 21\n",
    "    return print(l+i,l,i) "
   ]
  },
  {
   "cell_type": "code",
   "execution_count": 357,
   "metadata": {},
   "outputs": [
    {
     "name": "stdout",
     "output_type": "stream",
     "text": [
      "14 5 9\n"
     ]
    }
   ],
   "source": [
    "jugar(1)"
   ]
  },
  {
   "cell_type": "code",
   "execution_count": 325,
   "metadata": {},
   "outputs": [
    {
     "name": "stdout",
     "output_type": "stream",
     "text": [
      "355 11\n"
     ]
    }
   ],
   "source": [
    "jugar(1)"
   ]
  },
  {
   "cell_type": "code",
   "execution_count": 326,
   "metadata": {},
   "outputs": [
    {
     "name": "stdout",
     "output_type": "stream",
     "text": [
      "361 6\n"
     ]
    }
   ],
   "source": [
    "jugar(1)"
   ]
  },
  {
   "cell_type": "code",
   "execution_count": 47,
   "metadata": {},
   "outputs": [],
   "source": [
    "def jugar(m):\n",
    "    import random as rm\n",
    "    f=list(range(1,14))*4*m\n",
    "    rm.shuffle(f)\n",
    "    i=0\n",
    "    suma=0\n",
    "    print(f)\n",
    "    while len(f)>=1:  \n",
    "        l=f.pop(i)\n",
    "        print(l)\n",
    "        suma=l\n",
    "    return print(suma)"
   ]
  },
  {
   "cell_type": "markdown",
   "metadata": {},
   "source": [
    "#NECESITO ENCONTRAR UNA INDEXACION A f.pop(0), que vaya sacando y vaya sumando las numeros y chequee q ue la suma sea menor igual que 21 sino que no saque mas"
   ]
  },
  {
   "cell_type": "code",
   "execution_count": 48,
   "metadata": {},
   "outputs": [
    {
     "name": "stdout",
     "output_type": "stream",
     "text": [
      "[10, 9, 12, 10, 8, 7, 12, 4, 11, 5, 1, 10, 5, 2, 9, 7, 7, 2, 4, 5, 12, 6, 1, 5, 3, 8, 4, 3, 3, 12, 4, 10, 11, 13, 9, 11, 6, 1, 6, 13, 1, 3, 9, 13, 7, 8, 11, 8, 2, 13, 6, 2]\n"
     ]
    },
    {
     "ename": "NameError",
     "evalue": "name 'i' is not defined",
     "output_type": "error",
     "traceback": [
      "\u001b[1;31m---------------------------------------------------------------------------\u001b[0m",
      "\u001b[1;31mNameError\u001b[0m                                 Traceback (most recent call last)",
      "\u001b[1;32m<ipython-input-48-bfcee88341ce>\u001b[0m in \u001b[0;36m<module>\u001b[1;34m\u001b[0m\n\u001b[1;32m----> 1\u001b[1;33m \u001b[0mjugar\u001b[0m\u001b[1;33m(\u001b[0m\u001b[1;36m1\u001b[0m\u001b[1;33m)\u001b[0m\u001b[1;33m\u001b[0m\u001b[1;33m\u001b[0m\u001b[0m\n\u001b[0m",
      "\u001b[1;32m<ipython-input-47-38e6dbe2bebc>\u001b[0m in \u001b[0;36mjugar\u001b[1;34m(m)\u001b[0m\n\u001b[0;32m      5\u001b[0m     \u001b[0msuma\u001b[0m\u001b[1;33m=\u001b[0m\u001b[1;36m0\u001b[0m\u001b[1;33m\u001b[0m\u001b[1;33m\u001b[0m\u001b[0m\n\u001b[0;32m      6\u001b[0m     \u001b[0mprint\u001b[0m\u001b[1;33m(\u001b[0m\u001b[0mf\u001b[0m\u001b[1;33m)\u001b[0m\u001b[1;33m\u001b[0m\u001b[1;33m\u001b[0m\u001b[0m\n\u001b[1;32m----> 7\u001b[1;33m     \u001b[1;32mwhile\u001b[0m \u001b[0mi\u001b[0m \u001b[1;33m>=\u001b[0m\u001b[0mlen\u001b[0m\u001b[1;33m(\u001b[0m\u001b[0mf\u001b[0m\u001b[1;33m)\u001b[0m\u001b[1;33m:\u001b[0m\u001b[1;33m\u001b[0m\u001b[1;33m\u001b[0m\u001b[0m\n\u001b[0m\u001b[0;32m      8\u001b[0m         \u001b[0ml\u001b[0m\u001b[1;33m=\u001b[0m\u001b[0mf\u001b[0m\u001b[1;33m.\u001b[0m\u001b[0mpop\u001b[0m\u001b[1;33m(\u001b[0m\u001b[0mi\u001b[0m\u001b[1;33m)\u001b[0m\u001b[1;33m\u001b[0m\u001b[1;33m\u001b[0m\u001b[0m\n\u001b[0;32m      9\u001b[0m         \u001b[0mprint\u001b[0m\u001b[1;33m(\u001b[0m\u001b[0ml\u001b[0m\u001b[1;33m)\u001b[0m\u001b[1;33m\u001b[0m\u001b[1;33m\u001b[0m\u001b[0m\n",
      "\u001b[1;31mNameError\u001b[0m: name 'i' is not defined"
     ]
    }
   ],
   "source": [
    "jugar(1)"
   ]
  },
  {
   "cell_type": "code",
   "execution_count": null,
   "metadata": {},
   "outputs": [],
   "source": []
  }
 ],
 "metadata": {
  "kernelspec": {
   "display_name": "Python 3",
   "language": "python",
   "name": "python3"
  },
  "language_info": {
   "codemirror_mode": {
    "name": "ipython",
    "version": 3
   },
   "file_extension": ".py",
   "mimetype": "text/x-python",
   "name": "python",
   "nbconvert_exporter": "python",
   "pygments_lexer": "ipython3",
   "version": "3.7.6"
  }
 },
 "nbformat": 4,
 "nbformat_minor": 4
}
