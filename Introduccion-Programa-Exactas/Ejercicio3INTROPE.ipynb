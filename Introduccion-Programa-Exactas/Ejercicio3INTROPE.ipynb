{
 "cells": [
  {
   "cell_type": "markdown",
   "metadata": {},
   "source": [
    "Ejercicio 3 Introducción Programa Exactas"
   ]
  },
  {
   "cell_type": "markdown",
   "metadata": {},
   "source": [
    "Defina una funcion que tome una lista y cambie todas las vocales por  -"
   ]
  },
  {
   "cell_type": "code",
   "execution_count": 71,
   "metadata": {},
   "outputs": [],
   "source": [
    "def vocales_porrayita(nombre):\n",
    "        i=0\n",
    "        milista=list(nombre)\n",
    "        while i<len(milista):\n",
    "            if milista[i]=='a':\n",
    "                milista[i]='-'\n",
    "            elif milista[i]=='e':\n",
    "                            milista[i]='-'\n",
    "            elif milista[i]=='i':\n",
    "                            milista[i]='-'\n",
    "            elif milista[i]=='o':\n",
    "                          milista[i]='-'\n",
    "            elif milista[i]=='u':\n",
    "                            milista[i]='-'\n",
    "            i=i+1\n",
    "        return milista    "
   ]
  },
  {
   "cell_type": "code",
   "execution_count": 72,
   "metadata": {},
   "outputs": [
    {
     "data": {
      "text/plain": [
       "['L', '-', 'r', '-', 'n', '-']"
      ]
     },
     "execution_count": 72,
     "metadata": {},
     "output_type": "execute_result"
    }
   ],
   "source": [
    "vocales_porrayita(nombre)"
   ]
  },
  {
   "cell_type": "code",
   "execution_count": null,
   "metadata": {},
   "outputs": [],
   "source": []
  }
 ],
 "metadata": {
  "kernelspec": {
   "display_name": "Python 3",
   "language": "python",
   "name": "python3"
  },
  "language_info": {
   "codemirror_mode": {
    "name": "ipython",
    "version": 3
   },
   "file_extension": ".py",
   "mimetype": "text/x-python",
   "name": "python",
   "nbconvert_exporter": "python",
   "pygments_lexer": "ipython3",
   "version": "3.7.6"
  }
 },
 "nbformat": 4,
 "nbformat_minor": 4
}
