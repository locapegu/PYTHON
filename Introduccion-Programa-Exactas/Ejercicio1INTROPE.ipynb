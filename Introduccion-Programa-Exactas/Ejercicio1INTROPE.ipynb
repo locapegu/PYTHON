{
 "cells": [
  {
   "cell_type": "code",
   "execution_count": null,
   "metadata": {},
   "outputs": [],
   "source": [
    "Ejercicio 1 Introducción Programa Exactas"
   ]
  },
  {
   "cell_type": "markdown",
   "metadata": {},
   "source": [
    "Defina una funcion que tome dos cadenas de caracteres como parametro y  devuelva la de mayor longitud. Complete el siguiente programa (la cantidad de guiones no indica la cantidad de caracteres a completar):"
   ]
  },
  {
   "cell_type": "markdown",
   "metadata": {},
   "source": [
    "TIPS IMPORTANTES: Recordar que los nombres para asignar variables tienen que ser del estilo: libro libro_2 Libro\n",
    "asignar un nombre a una variable es con el =. Recordar que el nombre de una variable no puede empezar con un numero "
   ]
  },
  {
   "cell_type": "markdown",
   "metadata": {},
   "source": [
    "Para crear una función en python tenemos que usar la palabra reservada  def"
   ]
  },
  {
   "cell_type": "code",
   "execution_count": 63,
   "metadata": {},
   "outputs": [],
   "source": [
    "def maslongitud(l1,l2):\n",
    "    if len(l1)>len(l2):\n",
    "        res=l1\n",
    "    else: \n",
    "         res=l2\n",
    "    return res"
   ]
  },
  {
   "cell_type": "code",
   "execution_count": 64,
   "metadata": {},
   "outputs": [],
   "source": [
    "l1, l2 =\"BIOLOGOS\", \"GEOLOGAS\""
   ]
  },
  {
   "cell_type": "code",
   "execution_count": 65,
   "metadata": {},
   "outputs": [
    {
     "name": "stdout",
     "output_type": "stream",
     "text": [
      "GEOLOGAS\n"
     ]
    }
   ],
   "source": [
    "res=maslongitud(l1,l2)\n",
    "print(res)"
   ]
  },
  {
   "cell_type": "code",
   "execution_count": 72,
   "metadata": {},
   "outputs": [],
   "source": [
    "l1, l2=\"ALUMNOSSSS\", \"PANTUFLA\""
   ]
  },
  {
   "cell_type": "raw",
   "metadata": {},
   "source": [
    "res=maslongitud(l1,l2)\n",
    "print(res)"
   ]
  },
  {
   "cell_type": "markdown",
   "metadata": {},
   "source": [
    "OBSERVACION VER QUE SUCEDIÓ CUANDO TIENEN MISMA LONGITUD.\n"
   ]
  },
  {
   "cell_type": "code",
   "execution_count": 13,
   "metadata": {},
   "outputs": [],
   "source": [
    "l1, l2= \"HAWKINGS\", \"EINSTEIN\""
   ]
  },
  {
   "cell_type": "code",
   "execution_count": 14,
   "metadata": {},
   "outputs": [
    {
     "name": "stdout",
     "output_type": "stream",
     "text": [
      "EINSTEIN\n"
     ]
    }
   ],
   "source": [
    "res=maslongitud(l1,l2)\n",
    "print(res)"
   ]
  },
  {
   "cell_type": "code",
   "execution_count": 32,
   "metadata": {},
   "outputs": [],
   "source": [
    "l1,l2= \"UBA\", \"BOMBEROS\""
   ]
  },
  {
   "cell_type": "code",
   "execution_count": 33,
   "metadata": {},
   "outputs": [
    {
     "name": "stdout",
     "output_type": "stream",
     "text": [
      "BOMBEROS\n"
     ]
    }
   ],
   "source": [
    "res=maslongitud(l1,l2)\n",
    "print(res)"
   ]
  },
  {
   "cell_type": "code",
   "execution_count": 74,
   "metadata": {},
   "outputs": [],
   "source": [
    "l1,l2=\"PATRICIA\",\"ANA\""
   ]
  },
  {
   "cell_type": "code",
   "execution_count": 75,
   "metadata": {},
   "outputs": [
    {
     "name": "stdout",
     "output_type": "stream",
     "text": [
      "PATRICIA\n"
     ]
    }
   ],
   "source": [
    "res=maslongitud(l1,l2)\n",
    "print(res)"
   ]
  },
  {
   "cell_type": "code",
   "execution_count": 52,
   "metadata": {},
   "outputs": [],
   "source": [
    "l1,l2=\"ANA\",\"PATRICIA\"\n"
   ]
  },
  {
   "cell_type": "code",
   "execution_count": 53,
   "metadata": {},
   "outputs": [
    {
     "name": "stdout",
     "output_type": "stream",
     "text": [
      "PATRICIA\n"
     ]
    }
   ],
   "source": [
    "res=maslongitud(l1,l2)\n",
    "print(res)"
   ]
  }
 ],
 "metadata": {
  "kernelspec": {
   "display_name": "Python 3",
   "language": "python",
   "name": "python3"
  },
  "language_info": {
   "codemirror_mode": {
    "name": "ipython",
    "version": 3
   },
   "file_extension": ".py",
   "mimetype": "text/x-python",
   "name": "python",
   "nbconvert_exporter": "python",
   "pygments_lexer": "ipython3",
   "version": "3.7.6"
  }
 },
 "nbformat": 4,
 "nbformat_minor": 4
}
